{
 "cells": [
  {
   "cell_type": "code",
   "execution_count": 1,
   "metadata": {},
   "outputs": [],
   "source": [
    "import numpy as np\n",
    "import gym"
   ]
  },
  {
   "cell_type": "code",
   "execution_count": 2,
   "metadata": {},
   "outputs": [
    {
     "name": "stdout",
     "output_type": "stream",
     "text": [
      "3 2 [-1.2  -0.07] [0.6  0.07]\n"
     ]
    }
   ],
   "source": [
    "env = gym.make('MountainCar-v0')\n",
    "\n",
    "action_space = env.action_space.n\n",
    "obs_space = env.observation_space.shape[0]\n",
    "\n",
    "obs_min, obs_max = env.observation_space.low, env.observation_space.high\n",
    "\n",
    "res = 40\n",
    "\n",
    "print(action_space, obs_space, obs_min, obs_max)"
   ]
  },
  {
   "cell_type": "code",
   "execution_count": 3,
   "metadata": {},
   "outputs": [],
   "source": [
    "Q = np.random.randn(res, res, action_space)"
   ]
  },
  {
   "cell_type": "code",
   "execution_count": 4,
   "metadata": {},
   "outputs": [],
   "source": [
    "obs = env.reset()"
   ]
  },
  {
   "cell_type": "code",
   "execution_count": 5,
   "metadata": {},
   "outputs": [],
   "source": [
    "def obs_to_index(obs):\n",
    "    return tuple(np.floor((obs - obs_min) / (obs_max - obs_min) * res).astype(int))"
   ]
  },
  {
   "cell_type": "code",
   "execution_count": 6,
   "metadata": {},
   "outputs": [],
   "source": [
    "action = np.argmax(Q[obs_to_index(obs)])"
   ]
  },
  {
   "cell_type": "code",
   "execution_count": 7,
   "metadata": {},
   "outputs": [],
   "source": [
    "next_obs, reward, done, _ = env.step(action)"
   ]
  },
  {
   "cell_type": "code",
   "execution_count": 8,
   "metadata": {},
   "outputs": [
    {
     "data": {
      "text/plain": [
       "(array([-4.36534501e-01,  3.57004334e-04]), -1.0, False)"
      ]
     },
     "execution_count": 8,
     "metadata": {},
     "output_type": "execute_result"
    }
   ],
   "source": [
    "next_obs, reward, done"
   ]
  },
  {
   "cell_type": "code",
   "execution_count": 9,
   "metadata": {},
   "outputs": [],
   "source": [
    "ALPHA = 0.1\n",
    "GAMMA = 0.99\n",
    "EPSILON = 0.1\n",
    "\n",
    "NUM_EPISODES = 10000\n",
    "\n",
    "for episode in range(NUM_EPISODES):\n",
    "    obs = env.reset()\n",
    "    done = False\n",
    "\n",
    "    while not done:\n",
    "        if np.random.random() < EPSILON:\n",
    "            action = np.random.randint(action_space)\n",
    "        else:\n",
    "            action = np.argmax(Q[obs_to_index(obs)])\n",
    "        \n",
    "        next_obs, reward, done, _ = env.step(action)\n",
    "\n",
    "        target = reward + GAMMA * np.max(Q[obs_to_index(next_obs)])\n",
    "        error = target - Q[obs_to_index(obs) + (action,)]\n",
    "\n",
    "        Q[obs_to_index(obs) + (action,)] += ALPHA * error\n",
    "\n",
    "        obs = next_obs\n",
    "\n",
    "        if episode % 500 == 0:\n",
    "            # render\n",
    "            env.render()\n",
    "\n"
   ]
  }
 ],
 "metadata": {
  "kernelspec": {
   "display_name": "Python 3",
   "language": "python",
   "name": "python3"
  },
  "language_info": {
   "codemirror_mode": {
    "name": "ipython",
    "version": 3
   },
   "file_extension": ".py",
   "mimetype": "text/x-python",
   "name": "python",
   "nbconvert_exporter": "python",
   "pygments_lexer": "ipython3",
   "version": "3.9.13"
  },
  "orig_nbformat": 4
 },
 "nbformat": 4,
 "nbformat_minor": 2
}
