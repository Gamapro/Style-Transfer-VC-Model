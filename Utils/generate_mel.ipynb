{
 "cells": [
  {
   "cell_type": "code",
   "execution_count": null,
   "metadata": {},
   "outputs": [],
   "source": [
    "import torchaudio\n",
    "import torch\n",
    "import os\n",
    "import numpy as np\n",
    "import pandas as pd\n",
    "import IPython.display as ipd\n",
    "from utils import mel_to_wav, plot_mel_spectrogram"
   ]
  },
  {
   "cell_type": "code",
   "execution_count": null,
   "metadata": {},
   "outputs": [],
   "source": [
    "VOXCELEB_PATH_MEL = 'VoxCelebMEL'\n",
    "\n",
    "if not os.path.exists(VOXCELEB_PATH_MEL):\n",
    "    os.mkdir(VOXCELEB_PATH_MEL)"
   ]
  },
  {
   "cell_type": "code",
   "execution_count": null,
   "metadata": {},
   "outputs": [],
   "source": [
    "metadata = pd.read_csv('metadata.csv')\n",
    "print(len(metadata))\n",
    "\n",
    "for i, row in metadata.iterrows():\n",
    "\n",
    "    if i % 100 == 0:\n",
    "        print(i)\n",
    "    \n",
    "    waveform, sample_rate = torchaudio.load(row['path'])\n",
    "    waveform = torchaudio.transforms.Resample(sample_rate, 16000)(waveform)\n",
    "    mel_img = torchaudio.transforms.MelSpectrogram(sample_rate)(waveform)\n",
    "    \n",
    "    print(\"Min:\", mel_img.min(), \"Max:\", mel_img.max())\n",
    "    \n",
    "    path = row['path'].replace('.wav' , '.png')\n",
    "    path = path.split('/')\n",
    "    filename = path[-1]\n",
    "    path[0] = VOXCELEB_PATH_MEL\n",
    "    path = '/'.join(path[:-1])\n",
    "    path = path + '/'\n",
    "    \n",
    "    if not os.path.exists(os.path.dirname(path)):\n",
    "        os.makedirs(path)\n",
    "\n",
    "    path = path + filename\n",
    "\n",
    "    print(path)\n",
    "\n",
    "    plot_mel_spectrogram(mel_img, save=True, path=path)\n",
    "    \n",
    "    if i == 1:\n",
    "        break\n",
    "    \n"
   ]
  }
 ],
 "metadata": {
  "kernelspec": {
   "display_name": "Python 3",
   "language": "python",
   "name": "python3"
  },
  "language_info": {
   "codemirror_mode": {
    "name": "ipython",
    "version": 3
   },
   "file_extension": ".py",
   "mimetype": "text/x-python",
   "name": "python",
   "nbconvert_exporter": "python",
   "pygments_lexer": "ipython3",
   "version": "3.9.13"
  },
  "orig_nbformat": 4
 },
 "nbformat": 4,
 "nbformat_minor": 2
}
